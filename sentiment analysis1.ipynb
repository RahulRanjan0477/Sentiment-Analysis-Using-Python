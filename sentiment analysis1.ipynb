{
 "cells": [
  {
   "cell_type": "code",
   "execution_count": 2,
   "id": "married-lodging",
   "metadata": {},
   "outputs": [
    {
     "name": "stdout",
     "output_type": "stream",
     "text": [
      "Collecting textBlob\n",
      "  Downloading textblob-0.15.3-py2.py3-none-any.whl (636 kB)\n",
      "Requirement already satisfied: nltk>=3.1 in c:\\users\\rahul\\anaconda3\\lib\\site-packages (from textBlob) (3.5)\n",
      "Requirement already satisfied: joblib in c:\\users\\rahul\\anaconda3\\lib\\site-packages (from nltk>=3.1->textBlob) (1.0.1)\n",
      "Requirement already satisfied: click in c:\\users\\rahul\\anaconda3\\lib\\site-packages (from nltk>=3.1->textBlob) (7.1.2)\n",
      "Requirement already satisfied: tqdm in c:\\users\\rahul\\anaconda3\\lib\\site-packages (from nltk>=3.1->textBlob) (4.56.0)\n",
      "Requirement already satisfied: regex in c:\\users\\rahul\\anaconda3\\lib\\site-packages (from nltk>=3.1->textBlob) (2020.11.13)\n",
      "Installing collected packages: textBlob\n",
      "Successfully installed textBlob-0.15.3\n",
      "Note: you may need to restart the kernel to use updated packages.\n"
     ]
    }
   ],
   "source": [
    "# Intalling textBlob Libarary \n",
    "pip install textBlob\n"
   ]
  },
  {
   "cell_type": "code",
   "execution_count": 1,
   "id": "pacific-lawsuit",
   "metadata": {},
   "outputs": [],
   "source": [
    "# import TextBlob \n",
    "\n",
    "#TextBlob is a library for processing textual data. It provides a simple API for diving into common natural language processing (NLP) tasks such as part-of-speech tagging, noun phrase extraction, sentiment analysis, classification, translation, and more\n",
    "\n",
    "from textblob import TextBlob\n"
   ]
  },
  {
   "cell_type": "code",
   "execution_count": 8,
   "id": "informed-fifteen",
   "metadata": {},
   "outputs": [
    {
     "name": "stdout",
     "output_type": "stream",
     "text": [
      "Enter your response: Hi love you\n",
      "Happy\n"
     ]
    }
   ],
   "source": [
    "y=input(\"Enter your response: \")\n",
    "pq=TextBlob(y)\n",
    "x=pq.sentiment.polarity\n",
    "#Sentiment polarity for an element defines the orientation of the expressed sentiment, i.e., it determines if the text expresses the positive, negative or neutral sentiment of the user about the entity in consideration.\n",
    "# For negative sentences x>0\n",
    "# For Neural Sentences x=0\n",
    "# For Positive sentences x>0 && x<=1\n",
    "\n",
    "if x<0:\n",
    "    print(\"Angry\")\n",
    "elif x==0 :\n",
    "    print(\"sad\")\n",
    "elif x>0 and x<=1:\n",
    "    print(\"Happy\")"
   ]
  },
  {
   "cell_type": "code",
   "execution_count": null,
   "id": "theoretical-ethernet",
   "metadata": {},
   "outputs": [],
   "source": []
  },
  {
   "cell_type": "code",
   "execution_count": null,
   "id": "nutritional-shopping",
   "metadata": {},
   "outputs": [],
   "source": []
  }
 ],
 "metadata": {
  "kernelspec": {
   "display_name": "Python 3",
   "language": "python",
   "name": "python3"
  },
  "language_info": {
   "codemirror_mode": {
    "name": "ipython",
    "version": 3
   },
   "file_extension": ".py",
   "mimetype": "text/x-python",
   "name": "python",
   "nbconvert_exporter": "python",
   "pygments_lexer": "ipython3",
   "version": "3.8.5"
  }
 },
 "nbformat": 4,
 "nbformat_minor": 5
}
